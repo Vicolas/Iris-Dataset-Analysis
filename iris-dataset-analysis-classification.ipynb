{
 "cells": [
  {
   "cell_type": "code",
   "execution_count": 1,
   "id": "cb50bc7f",
   "metadata": {
    "_cell_guid": "b1076dfc-b9ad-4769-8c92-a6c4dae69d19",
    "_uuid": "8f2839f25d086af736a60e9eeb907d3b93b6e0e5",
    "execution": {
     "iopub.execute_input": "2023-02-18T19:18:54.345976Z",
     "iopub.status.busy": "2023-02-18T19:18:54.345528Z",
     "iopub.status.idle": "2023-02-18T19:18:54.364211Z",
     "shell.execute_reply": "2023-02-18T19:18:54.362983Z"
    },
    "papermill": {
     "duration": 0.035128,
     "end_time": "2023-02-18T19:18:54.368227",
     "exception": false,
     "start_time": "2023-02-18T19:18:54.333099",
     "status": "completed"
    },
    "tags": []
   },
   "outputs": [
    {
     "name": "stdout",
     "output_type": "stream",
     "text": [
      "/kaggle/input/iris-flower-dataset/IRIS.csv\n"
     ]
    }
   ],
   "source": [
    "# This Python 3 environment comes with many helpful analytics libraries installed\n",
    "# It is defined by the kaggle/python Docker image: https://github.com/kaggle/docker-python\n",
    "# For example, here's several helpful packages to load\n",
    "\n",
    "import numpy as np # linear algebra\n",
    "import pandas as pd # data processing, CSV file I/O (e.g. pd.read_csv)\n",
    "\n",
    "# Input data files are available in the read-only \"../input/\" directory\n",
    "# For example, running this (by clicking run or pressing Shift+Enter) will list all files under the input directory\n",
    "\n",
    "import os\n",
    "for dirname, _, filenames in os.walk('/kaggle/input'):\n",
    "    for filename in filenames:\n",
    "        print(os.path.join(dirname, filename))\n",
    "\n",
    "# You can write up to 20GB to the current directory (/kaggle/working/) that gets preserved as output when you create a version using \"Save & Run All\" \n",
    "# You can also write temporary files to /kaggle/temp/, but they won't be saved outside of the current session"
   ]
  },
  {
   "cell_type": "markdown",
   "id": "5c6afcb6",
   "metadata": {
    "papermill": {
     "duration": 0.008227,
     "end_time": "2023-02-18T19:18:54.385835",
     "exception": false,
     "start_time": "2023-02-18T19:18:54.377608",
     "status": "completed"
    },
    "tags": []
   },
   "source": [
    "Iris Flower Machine Learning Visualization"
   ]
  },
  {
   "cell_type": "markdown",
   "id": "04093e63",
   "metadata": {
    "papermill": {
     "duration": 0.008748,
     "end_time": "2023-02-18T19:18:54.403318",
     "exception": false,
     "start_time": "2023-02-18T19:18:54.394570",
     "status": "completed"
    },
    "tags": []
   },
   "source": [
    "**import libraries**"
   ]
  },
  {
   "cell_type": "code",
   "execution_count": 2,
   "id": "810c22ea",
   "metadata": {
    "execution": {
     "iopub.execute_input": "2023-02-18T19:18:54.422200Z",
     "iopub.status.busy": "2023-02-18T19:18:54.421831Z",
     "iopub.status.idle": "2023-02-18T19:18:55.417990Z",
     "shell.execute_reply": "2023-02-18T19:18:55.416783Z"
    },
    "papermill": {
     "duration": 1.008494,
     "end_time": "2023-02-18T19:18:55.420515",
     "exception": false,
     "start_time": "2023-02-18T19:18:54.412021",
     "status": "completed"
    },
    "tags": []
   },
   "outputs": [],
   "source": [
    "import pandas as pd\n",
    "import numpy as np\n",
    "import matplotlib.pyplot as plt\n",
    "import seaborn as sns\n"
   ]
  },
  {
   "cell_type": "markdown",
   "id": "c7cea1e5",
   "metadata": {
    "papermill": {
     "duration": 0.008318,
     "end_time": "2023-02-18T19:18:55.437547",
     "exception": false,
     "start_time": "2023-02-18T19:18:55.429229",
     "status": "completed"
    },
    "tags": []
   },
   "source": [
    " **Read in the dataset**"
   ]
  },
  {
   "cell_type": "code",
   "execution_count": 3,
   "id": "4648ca8f",
   "metadata": {
    "execution": {
     "iopub.execute_input": "2023-02-18T19:18:55.457366Z",
     "iopub.status.busy": "2023-02-18T19:18:55.456122Z",
     "iopub.status.idle": "2023-02-18T19:18:55.492411Z",
     "shell.execute_reply": "2023-02-18T19:18:55.491442Z"
    },
    "papermill": {
     "duration": 0.048567,
     "end_time": "2023-02-18T19:18:55.494782",
     "exception": false,
     "start_time": "2023-02-18T19:18:55.446215",
     "status": "completed"
    },
    "tags": []
   },
   "outputs": [
    {
     "data": {
      "text/html": [
       "<div>\n",
       "<style scoped>\n",
       "    .dataframe tbody tr th:only-of-type {\n",
       "        vertical-align: middle;\n",
       "    }\n",
       "\n",
       "    .dataframe tbody tr th {\n",
       "        vertical-align: top;\n",
       "    }\n",
       "\n",
       "    .dataframe thead th {\n",
       "        text-align: right;\n",
       "    }\n",
       "</style>\n",
       "<table border=\"1\" class=\"dataframe\">\n",
       "  <thead>\n",
       "    <tr style=\"text-align: right;\">\n",
       "      <th></th>\n",
       "      <th>sepal_length</th>\n",
       "      <th>sepal_width</th>\n",
       "      <th>petal_length</th>\n",
       "      <th>petal_width</th>\n",
       "      <th>species</th>\n",
       "    </tr>\n",
       "  </thead>\n",
       "  <tbody>\n",
       "    <tr>\n",
       "      <th>0</th>\n",
       "      <td>5.1</td>\n",
       "      <td>3.5</td>\n",
       "      <td>1.4</td>\n",
       "      <td>0.2</td>\n",
       "      <td>Iris-setosa</td>\n",
       "    </tr>\n",
       "    <tr>\n",
       "      <th>1</th>\n",
       "      <td>4.9</td>\n",
       "      <td>3.0</td>\n",
       "      <td>1.4</td>\n",
       "      <td>0.2</td>\n",
       "      <td>Iris-setosa</td>\n",
       "    </tr>\n",
       "    <tr>\n",
       "      <th>2</th>\n",
       "      <td>4.7</td>\n",
       "      <td>3.2</td>\n",
       "      <td>1.3</td>\n",
       "      <td>0.2</td>\n",
       "      <td>Iris-setosa</td>\n",
       "    </tr>\n",
       "    <tr>\n",
       "      <th>3</th>\n",
       "      <td>4.6</td>\n",
       "      <td>3.1</td>\n",
       "      <td>1.5</td>\n",
       "      <td>0.2</td>\n",
       "      <td>Iris-setosa</td>\n",
       "    </tr>\n",
       "    <tr>\n",
       "      <th>4</th>\n",
       "      <td>5.0</td>\n",
       "      <td>3.6</td>\n",
       "      <td>1.4</td>\n",
       "      <td>0.2</td>\n",
       "      <td>Iris-setosa</td>\n",
       "    </tr>\n",
       "  </tbody>\n",
       "</table>\n",
       "</div>"
      ],
      "text/plain": [
       "   sepal_length  sepal_width  petal_length  petal_width      species\n",
       "0           5.1          3.5           1.4          0.2  Iris-setosa\n",
       "1           4.9          3.0           1.4          0.2  Iris-setosa\n",
       "2           4.7          3.2           1.3          0.2  Iris-setosa\n",
       "3           4.6          3.1           1.5          0.2  Iris-setosa\n",
       "4           5.0          3.6           1.4          0.2  Iris-setosa"
      ]
     },
     "execution_count": 3,
     "metadata": {},
     "output_type": "execute_result"
    }
   ],
   "source": [
    "flower = pd.read_csv('/kaggle/input/iris-flower-dataset/IRIS.csv')\n",
    "flower.head()"
   ]
  },
  {
   "cell_type": "code",
   "execution_count": 4,
   "id": "81f17a45",
   "metadata": {
    "execution": {
     "iopub.execute_input": "2023-02-18T19:18:55.514669Z",
     "iopub.status.busy": "2023-02-18T19:18:55.514146Z",
     "iopub.status.idle": "2023-02-18T19:18:55.548059Z",
     "shell.execute_reply": "2023-02-18T19:18:55.546357Z"
    },
    "papermill": {
     "duration": 0.046908,
     "end_time": "2023-02-18T19:18:55.550686",
     "exception": false,
     "start_time": "2023-02-18T19:18:55.503778",
     "status": "completed"
    },
    "tags": []
   },
   "outputs": [
    {
     "name": "stdout",
     "output_type": "stream",
     "text": [
      "(150, 5)\n"
     ]
    },
    {
     "data": {
      "text/html": [
       "<div>\n",
       "<style scoped>\n",
       "    .dataframe tbody tr th:only-of-type {\n",
       "        vertical-align: middle;\n",
       "    }\n",
       "\n",
       "    .dataframe tbody tr th {\n",
       "        vertical-align: top;\n",
       "    }\n",
       "\n",
       "    .dataframe thead th {\n",
       "        text-align: right;\n",
       "    }\n",
       "</style>\n",
       "<table border=\"1\" class=\"dataframe\">\n",
       "  <thead>\n",
       "    <tr style=\"text-align: right;\">\n",
       "      <th></th>\n",
       "      <th>sepal_length</th>\n",
       "      <th>sepal_width</th>\n",
       "      <th>petal_length</th>\n",
       "      <th>petal_width</th>\n",
       "    </tr>\n",
       "  </thead>\n",
       "  <tbody>\n",
       "    <tr>\n",
       "      <th>count</th>\n",
       "      <td>150.000000</td>\n",
       "      <td>150.000000</td>\n",
       "      <td>150.000000</td>\n",
       "      <td>150.000000</td>\n",
       "    </tr>\n",
       "    <tr>\n",
       "      <th>mean</th>\n",
       "      <td>5.843333</td>\n",
       "      <td>3.054000</td>\n",
       "      <td>3.758667</td>\n",
       "      <td>1.198667</td>\n",
       "    </tr>\n",
       "    <tr>\n",
       "      <th>std</th>\n",
       "      <td>0.828066</td>\n",
       "      <td>0.433594</td>\n",
       "      <td>1.764420</td>\n",
       "      <td>0.763161</td>\n",
       "    </tr>\n",
       "    <tr>\n",
       "      <th>min</th>\n",
       "      <td>4.300000</td>\n",
       "      <td>2.000000</td>\n",
       "      <td>1.000000</td>\n",
       "      <td>0.100000</td>\n",
       "    </tr>\n",
       "    <tr>\n",
       "      <th>25%</th>\n",
       "      <td>5.100000</td>\n",
       "      <td>2.800000</td>\n",
       "      <td>1.600000</td>\n",
       "      <td>0.300000</td>\n",
       "    </tr>\n",
       "    <tr>\n",
       "      <th>50%</th>\n",
       "      <td>5.800000</td>\n",
       "      <td>3.000000</td>\n",
       "      <td>4.350000</td>\n",
       "      <td>1.300000</td>\n",
       "    </tr>\n",
       "    <tr>\n",
       "      <th>75%</th>\n",
       "      <td>6.400000</td>\n",
       "      <td>3.300000</td>\n",
       "      <td>5.100000</td>\n",
       "      <td>1.800000</td>\n",
       "    </tr>\n",
       "    <tr>\n",
       "      <th>max</th>\n",
       "      <td>7.900000</td>\n",
       "      <td>4.400000</td>\n",
       "      <td>6.900000</td>\n",
       "      <td>2.500000</td>\n",
       "    </tr>\n",
       "  </tbody>\n",
       "</table>\n",
       "</div>"
      ],
      "text/plain": [
       "       sepal_length  sepal_width  petal_length  petal_width\n",
       "count    150.000000   150.000000    150.000000   150.000000\n",
       "mean       5.843333     3.054000      3.758667     1.198667\n",
       "std        0.828066     0.433594      1.764420     0.763161\n",
       "min        4.300000     2.000000      1.000000     0.100000\n",
       "25%        5.100000     2.800000      1.600000     0.300000\n",
       "50%        5.800000     3.000000      4.350000     1.300000\n",
       "75%        6.400000     3.300000      5.100000     1.800000\n",
       "max        7.900000     4.400000      6.900000     2.500000"
      ]
     },
     "execution_count": 4,
     "metadata": {},
     "output_type": "execute_result"
    }
   ],
   "source": [
    "# viewing ststs of the data \n",
    "print(flower.shape)\n",
    "flower.describe()"
   ]
  },
  {
   "cell_type": "markdown",
   "id": "82aa3aaf",
   "metadata": {
    "papermill": {
     "duration": 0.008754,
     "end_time": "2023-02-18T19:18:55.568578",
     "exception": false,
     "start_time": "2023-02-18T19:18:55.559824",
     "status": "completed"
    },
    "tags": []
   },
   "source": [
    "**Data Preprocessing**"
   ]
  },
  {
   "cell_type": "code",
   "execution_count": 5,
   "id": "da4a2f8d",
   "metadata": {
    "execution": {
     "iopub.execute_input": "2023-02-18T19:18:55.589567Z",
     "iopub.status.busy": "2023-02-18T19:18:55.588041Z",
     "iopub.status.idle": "2023-02-18T19:18:55.597501Z",
     "shell.execute_reply": "2023-02-18T19:18:55.596448Z"
    },
    "papermill": {
     "duration": 0.021924,
     "end_time": "2023-02-18T19:18:55.599661",
     "exception": false,
     "start_time": "2023-02-18T19:18:55.577737",
     "status": "completed"
    },
    "tags": []
   },
   "outputs": [
    {
     "data": {
      "text/plain": [
       "Iris-setosa        50\n",
       "Iris-versicolor    50\n",
       "Iris-virginica     50\n",
       "Name: species, dtype: int64"
      ]
     },
     "execution_count": 5,
     "metadata": {},
     "output_type": "execute_result"
    }
   ],
   "source": [
    "# view all samples and species of the Iris flower. Can also be viewed like flower.species.value_counts()\n",
    "flower['species'].value_counts()"
   ]
  },
  {
   "cell_type": "code",
   "execution_count": 6,
   "id": "7d748e48",
   "metadata": {
    "execution": {
     "iopub.execute_input": "2023-02-18T19:18:55.620404Z",
     "iopub.status.busy": "2023-02-18T19:18:55.619199Z",
     "iopub.status.idle": "2023-02-18T19:18:55.636439Z",
     "shell.execute_reply": "2023-02-18T19:18:55.635032Z"
    },
    "papermill": {
     "duration": 0.030227,
     "end_time": "2023-02-18T19:18:55.638999",
     "exception": false,
     "start_time": "2023-02-18T19:18:55.608772",
     "status": "completed"
    },
    "tags": []
   },
   "outputs": [
    {
     "name": "stdout",
     "output_type": "stream",
     "text": [
      "<class 'pandas.core.frame.DataFrame'>\n",
      "RangeIndex: 150 entries, 0 to 149\n",
      "Data columns (total 5 columns):\n",
      " #   Column        Non-Null Count  Dtype  \n",
      "---  ------        --------------  -----  \n",
      " 0   sepal_length  150 non-null    float64\n",
      " 1   sepal_width   150 non-null    float64\n",
      " 2   petal_length  150 non-null    float64\n",
      " 3   petal_width   150 non-null    float64\n",
      " 4   species       150 non-null    object \n",
      "dtypes: float64(4), object(1)\n",
      "memory usage: 6.0+ KB\n"
     ]
    }
   ],
   "source": [
    "# basic data type information\n",
    "flower.info()"
   ]
  },
  {
   "cell_type": "code",
   "execution_count": 7,
   "id": "c2643135",
   "metadata": {
    "execution": {
     "iopub.execute_input": "2023-02-18T19:18:55.659411Z",
     "iopub.status.busy": "2023-02-18T19:18:55.658637Z",
     "iopub.status.idle": "2023-02-18T19:18:55.668042Z",
     "shell.execute_reply": "2023-02-18T19:18:55.666857Z"
    },
    "papermill": {
     "duration": 0.022058,
     "end_time": "2023-02-18T19:18:55.670404",
     "exception": false,
     "start_time": "2023-02-18T19:18:55.648346",
     "status": "completed"
    },
    "tags": []
   },
   "outputs": [
    {
     "data": {
      "text/plain": [
       "sepal_length    0\n",
       "sepal_width     0\n",
       "petal_length    0\n",
       "petal_width     0\n",
       "species         0\n",
       "dtype: int64"
      ]
     },
     "execution_count": 7,
     "metadata": {},
     "output_type": "execute_result"
    }
   ],
   "source": [
    "# check for null values\n",
    "flower.isnull().sum()"
   ]
  },
  {
   "cell_type": "markdown",
   "id": "0b4cc8c6",
   "metadata": {
    "papermill": {
     "duration": 0.008925,
     "end_time": "2023-02-18T19:18:55.688875",
     "exception": false,
     "start_time": "2023-02-18T19:18:55.679950",
     "status": "completed"
    },
    "tags": []
   },
   "source": [
    "**Data Visualization**"
   ]
  },
  {
   "cell_type": "code",
   "execution_count": 8,
   "id": "fe914ea6",
   "metadata": {
    "execution": {
     "iopub.execute_input": "2023-02-18T19:18:55.709498Z",
     "iopub.status.busy": "2023-02-18T19:18:55.709018Z",
     "iopub.status.idle": "2023-02-18T19:18:55.989140Z",
     "shell.execute_reply": "2023-02-18T19:18:55.988021Z"
    },
    "papermill": {
     "duration": 0.293567,
     "end_time": "2023-02-18T19:18:55.991675",
     "exception": false,
     "start_time": "2023-02-18T19:18:55.698108",
     "status": "completed"
    },
    "tags": []
   },
   "outputs": [
    {
     "data": {
      "text/plain": [
       "<AxesSubplot:>"
      ]
     },
     "execution_count": 8,
     "metadata": {},
     "output_type": "execute_result"
    },
    {
     "data": {
      "image/png": "[encoded data removed]",
      "text/plain": [
       "<Figure size 640x480 with 1 Axes>"
      ]
     },
     "metadata": {},
     "output_type": "display_data"
    }
   ],
   "source": [
    "# Histograms\n",
    "flower['sepal_length'].hist()"
   ]
  },
  {
   "cell_type": "code",
   "execution_count": 9,
   "id": "bbfef3a0",
   "metadata": {
    "execution": {
     "iopub.execute_input": "2023-02-18T19:18:56.013238Z",
     "iopub.status.busy": "2023-02-18T19:18:56.012469Z",
     "iopub.status.idle": "2023-02-18T19:18:56.237611Z",
     "shell.execute_reply": "2023-02-18T19:18:56.236493Z"
    },
    "papermill": {
     "duration": 0.238208,
     "end_time": "2023-02-18T19:18:56.239774",
     "exception": false,
     "start_time": "2023-02-18T19:18:56.001566",
     "status": "completed"
    },
    "tags": []
   },
   "outputs": [
    {
     "data": {
      "text/plain": [
       "<AxesSubplot:>"
      ]
     },
     "execution_count": 9,
     "metadata": {},
     "output_type": "execute_result"
    },
    {
     "data": {
      "image/png": "[encoded data removed]",
      "text/plain": [
       "<Figure size 640x480 with 1 Axes>"
      ]
     },
     "metadata": {},
     "output_type": "display_data"
    }
   ],
   "source": [
    "flower['sepal_width'].hist()"
   ]
  },
  {
   "cell_type": "code",
   "execution_count": 10,
   "id": "2edd4b5a",
   "metadata": {
    "execution": {
     "iopub.execute_input": "2023-02-18T19:18:56.261193Z",
     "iopub.status.busy": "2023-02-18T19:18:56.260817Z",
     "iopub.status.idle": "2023-02-18T19:18:56.494130Z",
     "shell.execute_reply": "2023-02-18T19:18:56.493179Z"
    },
    "papermill": {
     "duration": 0.246871,
     "end_time": "2023-02-18T19:18:56.496632",
     "exception": false,
     "start_time": "2023-02-18T19:18:56.249761",
     "status": "completed"
    },
    "tags": []
   },
   "outputs": [
    {
     "data": {
      "text/plain": [
       "<AxesSubplot:>"
      ]
     },
     "execution_count": 10,
     "metadata": {},
     "output_type": "execute_result"
    },
    {
     "data": {
      "image/png": "[encoded data removed]",
      "text/plain": [
       "<Figure size 640x480 with 1 Axes>"
      ]
     },
     "metadata": {},
     "output_type": "display_data"
    }
   ],
   "source": [
    "flower['petal_length'].hist()"
   ]
  },
  {
   "cell_type": "code",
   "execution_count": 11,
   "id": "e3e34392",
   "metadata": {
    "execution": {
     "iopub.execute_input": "2023-02-18T19:18:56.520680Z",
     "iopub.status.busy": "2023-02-18T19:18:56.519452Z",
     "iopub.status.idle": "2023-02-18T19:18:56.772813Z",
     "shell.execute_reply": "2023-02-18T19:18:56.771805Z"
    },
    "papermill": {
     "duration": 0.267486,
     "end_time": "2023-02-18T19:18:56.775175",
     "exception": false,
     "start_time": "2023-02-18T19:18:56.507689",
     "status": "completed"
    },
    "tags": []
   },
   "outputs": [
    {
     "data": {
      "text/plain": [
       "<AxesSubplot:>"
      ]
     },
     "execution_count": 11,
     "metadata": {},
     "output_type": "execute_result"
    },
    {
     "data": {
      "image/png": "[encoded data removed]",
      "text/plain": [
       "<Figure size 640x480 with 1 Axes>"
      ]
     },
     "metadata": {},
     "output_type": "display_data"
    }
   ],
   "source": [
    " flower['petal_width'].hist()"
   ]
  },
  {
   "cell_type": "code",
   "execution_count": 12,
   "id": "620fb95e",
   "metadata": {
    "execution": {
     "iopub.execute_input": "2023-02-18T19:18:56.807871Z",
     "iopub.status.busy": "2023-02-18T19:18:56.806899Z",
     "iopub.status.idle": "2023-02-18T19:18:56.812101Z",
     "shell.execute_reply": "2023-02-18T19:18:56.810944Z"
    },
    "papermill": {
     "duration": 0.023511,
     "end_time": "2023-02-18T19:18:56.814412",
     "exception": false,
     "start_time": "2023-02-18T19:18:56.790901",
     "status": "completed"
    },
    "tags": []
   },
   "outputs": [],
   "source": [
    "# Scatter plots. Plotting a scatter plot for each specie of flower\n",
    "# define the colours to differentiate each specie\n",
    "colour = ['black', 'purple', 'green']\n",
    "species = ['Iris-setosa', 'Iris-versicolor', 'Iris-virginica']"
   ]
  },
  {
   "cell_type": "code",
   "execution_count": 13,
   "id": "0de52383",
   "metadata": {
    "execution": {
     "iopub.execute_input": "2023-02-18T19:18:56.843876Z",
     "iopub.status.busy": "2023-02-18T19:18:56.843146Z",
     "iopub.status.idle": "2023-02-18T19:18:57.193918Z",
     "shell.execute_reply": "2023-02-18T19:18:57.192670Z"
    },
    "papermill": {
     "duration": 0.368133,
     "end_time": "2023-02-18T19:18:57.196810",
     "exception": false,
     "start_time": "2023-02-18T19:18:56.828677",
     "status": "completed"
    },
    "tags": []
   },
   "outputs": [
    {
     "data": {
      "text/plain": [
       "<matplotlib.legend.Legend at 0x7f5e95d71e10>"
      ]
     },
     "execution_count": 13,
     "metadata": {},
     "output_type": "execute_result"
    },
    {
     "data": {
      "image/png": "[encoded data removed]",
      "text/plain": [
       "<Figure size 640x480 with 1 Axes>"
      ]
     },
     "metadata": {},
     "output_type": "display_data"
    }
   ],
   "source": [
    "for i in range (3):\n",
    "    x = flower[flower['species'] == species[i]]\n",
    "    plt.scatter(x['sepal_length'], x['sepal_width'], c = colour[i], label = species[i])\n",
    "plt.xlabel('sepal_length')\n",
    "plt.ylabel('sepal_width')\n",
    "plt.legend()\n",
    "    \n",
    "#sepal_length \n",
    "#sepal_width\n",
    "#petal_length\n",
    "#petal_width"
   ]
  },
  {
   "cell_type": "code",
   "execution_count": 14,
   "id": "e3364e9a",
   "metadata": {
    "execution": {
     "iopub.execute_input": "2023-02-18T19:18:57.222204Z",
     "iopub.status.busy": "2023-02-18T19:18:57.221384Z",
     "iopub.status.idle": "2023-02-18T19:18:57.563007Z",
     "shell.execute_reply": "2023-02-18T19:18:57.561847Z"
    },
    "papermill": {
     "duration": 0.357071,
     "end_time": "2023-02-18T19:18:57.565580",
     "exception": false,
     "start_time": "2023-02-18T19:18:57.208509",
     "status": "completed"
    },
    "tags": []
   },
   "outputs": [
    {
     "data": {
      "text/plain": [
       "<matplotlib.legend.Legend at 0x7f5e95cf16d0>"
      ]
     },
     "execution_count": 14,
     "metadata": {},
     "output_type": "execute_result"
    },
    {
     "data": {
      "image/png": "[encoded data removed]",
      "text/plain": [
       "<Figure size 640x480 with 1 Axes>"
      ]
     },
     "metadata": {},
     "output_type": "display_data"
    }
   ],
   "source": [
    "for i in range (3):\n",
    "    x = flower[flower['species'] == species[i]]\n",
    "    plt.scatter(x['petal_length'], x['petal_width'], c = colour[i], label = species[i])\n",
    "plt.xlabel('petal_length')\n",
    "plt.ylabel('petal_width')\n",
    "plt.legend()"
   ]
  },
  {
   "cell_type": "code",
   "execution_count": 15,
   "id": "188b628a",
   "metadata": {
    "execution": {
     "iopub.execute_input": "2023-02-18T19:18:57.591351Z",
     "iopub.status.busy": "2023-02-18T19:18:57.590946Z",
     "iopub.status.idle": "2023-02-18T19:18:57.931338Z",
     "shell.execute_reply": "2023-02-18T19:18:57.930044Z"
    },
    "papermill": {
     "duration": 0.356213,
     "end_time": "2023-02-18T19:18:57.933919",
     "exception": false,
     "start_time": "2023-02-18T19:18:57.577706",
     "status": "completed"
    },
    "tags": []
   },
   "outputs": [
    {
     "data": {
      "text/plain": [
       "<matplotlib.legend.Legend at 0x7f5e95c931d0>"
      ]
     },
     "execution_count": 15,
     "metadata": {},
     "output_type": "execute_result"
    },
    {
     "data": {
      "image/png": "[encoded data removed]",
      "text/plain": [
       "<Figure size 640x480 with 1 Axes>"
      ]
     },
     "metadata": {},
     "output_type": "display_data"
    }
   ],
   "source": [
    "for i in range (3):\n",
    "    x = flower[flower['species'] == species[i]]\n",
    "    plt.scatter(x['petal_length'], x['sepal_length'], c = colour[i], label = species[i])\n",
    "plt.xlabel('petal_length')\n",
    "plt.ylabel('sepal_length')\n",
    "plt.legend()"
   ]
  },
  {
   "cell_type": "code",
   "execution_count": 16,
   "id": "e14a290a",
   "metadata": {
    "execution": {
     "iopub.execute_input": "2023-02-18T19:18:57.961331Z",
     "iopub.status.busy": "2023-02-18T19:18:57.960917Z",
     "iopub.status.idle": "2023-02-18T19:18:58.281199Z",
     "shell.execute_reply": "2023-02-18T19:18:58.280329Z"
    },
    "papermill": {
     "duration": 0.336609,
     "end_time": "2023-02-18T19:18:58.283515",
     "exception": false,
     "start_time": "2023-02-18T19:18:57.946906",
     "status": "completed"
    },
    "tags": []
   },
   "outputs": [
    {
     "data": {
      "text/plain": [
       "<matplotlib.legend.Legend at 0x7f5e95bba650>"
      ]
     },
     "execution_count": 16,
     "metadata": {},
     "output_type": "execute_result"
    },
    {
     "data": {
      "image/png": "[encoded data removed]",
      "text/plain": [
       "<Figure size 640x480 with 1 Axes>"
      ]
     },
     "metadata": {},
     "output_type": "display_data"
    }
   ],
   "source": [
    "for i in range (3):\n",
    "    x = flower[flower['species'] == species[i]]\n",
    "    plt.scatter(x['sepal_width'], x['petal_width'], c = colour[i], label = species[i])\n",
    "plt.xlabel('sepal_width')\n",
    "plt.ylabel('petal_width')\n",
    "plt.legend()"
   ]
  },
  {
   "cell_type": "code",
   "execution_count": 17,
   "id": "f319faa6",
   "metadata": {
    "execution": {
     "iopub.execute_input": "2023-02-18T19:18:58.313699Z",
     "iopub.status.busy": "2023-02-18T19:18:58.312589Z",
     "iopub.status.idle": "2023-02-18T19:18:58.327901Z",
     "shell.execute_reply": "2023-02-18T19:18:58.326615Z"
    },
    "papermill": {
     "duration": 0.03358,
     "end_time": "2023-02-18T19:18:58.330746",
     "exception": false,
     "start_time": "2023-02-18T19:18:58.297166",
     "status": "completed"
    },
    "tags": []
   },
   "outputs": [
    {
     "data": {
      "text/html": [
       "<div>\n",
       "<style scoped>\n",
       "    .dataframe tbody tr th:only-of-type {\n",
       "        vertical-align: middle;\n",
       "    }\n",
       "\n",
       "    .dataframe tbody tr th {\n",
       "        vertical-align: top;\n",
       "    }\n",
       "\n",
       "    .dataframe thead th {\n",
       "        text-align: right;\n",
       "    }\n",
       "</style>\n",
       "<table border=\"1\" class=\"dataframe\">\n",
       "  <thead>\n",
       "    <tr style=\"text-align: right;\">\n",
       "      <th></th>\n",
       "      <th>sepal_length</th>\n",
       "      <th>sepal_width</th>\n",
       "      <th>petal_length</th>\n",
       "      <th>petal_width</th>\n",
       "    </tr>\n",
       "  </thead>\n",
       "  <tbody>\n",
       "    <tr>\n",
       "      <th>sepal_length</th>\n",
       "      <td>1.000000</td>\n",
       "      <td>-0.109369</td>\n",
       "      <td>0.871754</td>\n",
       "      <td>0.817954</td>\n",
       "    </tr>\n",
       "    <tr>\n",
       "      <th>sepal_width</th>\n",
       "      <td>-0.109369</td>\n",
       "      <td>1.000000</td>\n",
       "      <td>-0.420516</td>\n",
       "      <td>-0.356544</td>\n",
       "    </tr>\n",
       "    <tr>\n",
       "      <th>petal_length</th>\n",
       "      <td>0.871754</td>\n",
       "      <td>-0.420516</td>\n",
       "      <td>1.000000</td>\n",
       "      <td>0.962757</td>\n",
       "    </tr>\n",
       "    <tr>\n",
       "      <th>petal_width</th>\n",
       "      <td>0.817954</td>\n",
       "      <td>-0.356544</td>\n",
       "      <td>0.962757</td>\n",
       "      <td>1.000000</td>\n",
       "    </tr>\n",
       "  </tbody>\n",
       "</table>\n",
       "</div>"
      ],
      "text/plain": [
       "              sepal_length  sepal_width  petal_length  petal_width\n",
       "sepal_length      1.000000    -0.109369      0.871754     0.817954\n",
       "sepal_width      -0.109369     1.000000     -0.420516    -0.356544\n",
       "petal_length      0.871754    -0.420516      1.000000     0.962757\n",
       "petal_width       0.817954    -0.356544      0.962757     1.000000"
      ]
     },
     "execution_count": 17,
     "metadata": {},
     "output_type": "execute_result"
    }
   ],
   "source": [
    "#correlation matrix\n",
    "flower.corr()"
   ]
  },
  {
   "cell_type": "code",
   "execution_count": 18,
   "id": "d91f7caa",
   "metadata": {
    "execution": {
     "iopub.execute_input": "2023-02-18T19:18:58.360730Z",
     "iopub.status.busy": "2023-02-18T19:18:58.359531Z",
     "iopub.status.idle": "2023-02-18T19:18:58.689201Z",
     "shell.execute_reply": "2023-02-18T19:18:58.688342Z"
    },
    "papermill": {
     "duration": 0.346783,
     "end_time": "2023-02-18T19:18:58.691454",
     "exception": false,
     "start_time": "2023-02-18T19:18:58.344671",
     "status": "completed"
    },
    "tags": []
   },
   "outputs": [
    {
     "data": {
      "text/plain": [
       "<AxesSubplot:>"
      ]
     },
     "execution_count": 18,
     "metadata": {},
     "output_type": "execute_result"
    },
    {
     "data": {
      "image/png": "[encoded data removed]",
      "text/plain": [
       "<Figure size 500x400 with 2 Axes>"
      ]
     },
     "metadata": {},
     "output_type": "display_data"
    }
   ],
   "source": [
    "corr = flower.corr()\n",
    "fig, ax = plt.subplots(figsize=(5,4))\n",
    "sns.heatmap(corr, annot = True, ax = ax)"
   ]
  },
  {
   "cell_type": "markdown",
   "id": "f3733432",
   "metadata": {
    "papermill": {
     "duration": 0.014291,
     "end_time": "2023-02-18T19:18:58.719793",
     "exception": false,
     "start_time": "2023-02-18T19:18:58.705502",
     "status": "completed"
    },
    "tags": []
   },
   "source": [
    "**Label Encoding**\n",
    "\n",
    "Convert labels in form of categorical variables (string) to numeric form for machine readability."
   ]
  },
  {
   "cell_type": "code",
   "execution_count": 19,
   "id": "5eaae6c8",
   "metadata": {
    "execution": {
     "iopub.execute_input": "2023-02-18T19:18:58.750221Z",
     "iopub.status.busy": "2023-02-18T19:18:58.749242Z",
     "iopub.status.idle": "2023-02-18T19:18:58.889611Z",
     "shell.execute_reply": "2023-02-18T19:18:58.888443Z"
    },
    "papermill": {
     "duration": 0.158496,
     "end_time": "2023-02-18T19:18:58.892366",
     "exception": false,
     "start_time": "2023-02-18T19:18:58.733870",
     "status": "completed"
    },
    "tags": []
   },
   "outputs": [],
   "source": [
    "from sklearn.preprocessing import LabelEncoder\n",
    "le = LabelEncoder()\n"
   ]
  },
  {
   "cell_type": "code",
   "execution_count": 20,
   "id": "700d8832",
   "metadata": {
    "execution": {
     "iopub.execute_input": "2023-02-18T19:18:58.922935Z",
     "iopub.status.busy": "2023-02-18T19:18:58.922549Z",
     "iopub.status.idle": "2023-02-18T19:18:58.937833Z",
     "shell.execute_reply": "2023-02-18T19:18:58.936743Z"
    },
    "papermill": {
     "duration": 0.032942,
     "end_time": "2023-02-18T19:18:58.939933",
     "exception": false,
     "start_time": "2023-02-18T19:18:58.906991",
     "status": "completed"
    },
    "tags": []
   },
   "outputs": [
    {
     "data": {
      "text/html": [
       "<div>\n",
       "<style scoped>\n",
       "    .dataframe tbody tr th:only-of-type {\n",
       "        vertical-align: middle;\n",
       "    }\n",
       "\n",
       "    .dataframe tbody tr th {\n",
       "        vertical-align: top;\n",
       "    }\n",
       "\n",
       "    .dataframe thead th {\n",
       "        text-align: right;\n",
       "    }\n",
       "</style>\n",
       "<table border=\"1\" class=\"dataframe\">\n",
       "  <thead>\n",
       "    <tr style=\"text-align: right;\">\n",
       "      <th></th>\n",
       "      <th>sepal_length</th>\n",
       "      <th>sepal_width</th>\n",
       "      <th>petal_length</th>\n",
       "      <th>petal_width</th>\n",
       "      <th>species</th>\n",
       "    </tr>\n",
       "  </thead>\n",
       "  <tbody>\n",
       "    <tr>\n",
       "      <th>145</th>\n",
       "      <td>6.7</td>\n",
       "      <td>3.0</td>\n",
       "      <td>5.2</td>\n",
       "      <td>2.3</td>\n",
       "      <td>2</td>\n",
       "    </tr>\n",
       "    <tr>\n",
       "      <th>146</th>\n",
       "      <td>6.3</td>\n",
       "      <td>2.5</td>\n",
       "      <td>5.0</td>\n",
       "      <td>1.9</td>\n",
       "      <td>2</td>\n",
       "    </tr>\n",
       "    <tr>\n",
       "      <th>147</th>\n",
       "      <td>6.5</td>\n",
       "      <td>3.0</td>\n",
       "      <td>5.2</td>\n",
       "      <td>2.0</td>\n",
       "      <td>2</td>\n",
       "    </tr>\n",
       "    <tr>\n",
       "      <th>148</th>\n",
       "      <td>6.2</td>\n",
       "      <td>3.4</td>\n",
       "      <td>5.4</td>\n",
       "      <td>2.3</td>\n",
       "      <td>2</td>\n",
       "    </tr>\n",
       "    <tr>\n",
       "      <th>149</th>\n",
       "      <td>5.9</td>\n",
       "      <td>3.0</td>\n",
       "      <td>5.1</td>\n",
       "      <td>1.8</td>\n",
       "      <td>2</td>\n",
       "    </tr>\n",
       "  </tbody>\n",
       "</table>\n",
       "</div>"
      ],
      "text/plain": [
       "     sepal_length  sepal_width  petal_length  petal_width  species\n",
       "145           6.7          3.0           5.2          2.3        2\n",
       "146           6.3          2.5           5.0          1.9        2\n",
       "147           6.5          3.0           5.2          2.0        2\n",
       "148           6.2          3.4           5.4          2.3        2\n",
       "149           5.9          3.0           5.1          1.8        2"
      ]
     },
     "execution_count": 20,
     "metadata": {},
     "output_type": "execute_result"
    }
   ],
   "source": [
    "flower['species'] = le.fit_transform(flower['species'])\n",
    "flower.tail()"
   ]
  },
  {
   "cell_type": "markdown",
   "id": "f4d3a1c5",
   "metadata": {
    "papermill": {
     "duration": 0.014228,
     "end_time": "2023-02-18T19:18:58.968819",
     "exception": false,
     "start_time": "2023-02-18T19:18:58.954591",
     "status": "completed"
    },
    "tags": []
   },
   "source": [
    "**Model Training**"
   ]
  },
  {
   "cell_type": "code",
   "execution_count": 21,
   "id": "5af7d361",
   "metadata": {
    "execution": {
     "iopub.execute_input": "2023-02-18T19:18:59.000504Z",
     "iopub.status.busy": "2023-02-18T19:18:58.999773Z",
     "iopub.status.idle": "2023-02-18T19:18:59.064425Z",
     "shell.execute_reply": "2023-02-18T19:18:59.062950Z"
    },
    "papermill": {
     "duration": 0.083506,
     "end_time": "2023-02-18T19:18:59.067234",
     "exception": false,
     "start_time": "2023-02-18T19:18:58.983728",
     "status": "completed"
    },
    "tags": []
   },
   "outputs": [],
   "source": [
    "from sklearn.model_selection import train_test_split\n",
    "x = flower.drop(columns=['species'])\n",
    "y = flower['species']\n",
    "x_train, x_test, y_train, y_test = train_test_split(x, y, test_size=0.30)"
   ]
  },
  {
   "cell_type": "code",
   "execution_count": 22,
   "id": "321e3553",
   "metadata": {
    "execution": {
     "iopub.execute_input": "2023-02-18T19:18:59.098257Z",
     "iopub.status.busy": "2023-02-18T19:18:59.097881Z",
     "iopub.status.idle": "2023-02-18T19:18:59.168686Z",
     "shell.execute_reply": "2023-02-18T19:18:59.167494Z"
    },
    "papermill": {
     "duration": 0.089396,
     "end_time": "2023-02-18T19:18:59.171685",
     "exception": false,
     "start_time": "2023-02-18T19:18:59.082289",
     "status": "completed"
    },
    "tags": []
   },
   "outputs": [],
   "source": [
    "#logistic regression\n",
    "from sklearn.linear_model import LogisticRegression\n",
    "model = LogisticRegression()"
   ]
  },
  {
   "cell_type": "code",
   "execution_count": 23,
   "id": "95642ae2",
   "metadata": {
    "execution": {
     "iopub.execute_input": "2023-02-18T19:18:59.202730Z",
     "iopub.status.busy": "2023-02-18T19:18:59.202335Z",
     "iopub.status.idle": "2023-02-18T19:18:59.248189Z",
     "shell.execute_reply": "2023-02-18T19:18:59.246634Z"
    },
    "papermill": {
     "duration": 0.064779,
     "end_time": "2023-02-18T19:18:59.251292",
     "exception": false,
     "start_time": "2023-02-18T19:18:59.186513",
     "status": "completed"
    },
    "tags": []
   },
   "outputs": [
    {
     "name": "stderr",
     "output_type": "stream",
     "text": [
      "/opt/conda/lib/python3.7/site-packages/sklearn/linear_model/_logistic.py:818: ConvergenceWarning: lbfgs failed to converge (status=1):\n",
      "STOP: TOTAL NO. of ITERATIONS REACHED LIMIT.\n",
      "\n",
      "Increase the number of iterations (max_iter) or scale the data as shown in:\n",
      "    https://scikit-learn.org/stable/modules/preprocessing.html\n",
      "Please also refer to the documentation for alternative solver options:\n",
      "    https://scikit-learn.org/stable/modules/linear_model.html#logistic-regression\n",
      "  extra_warning_msg=_LOGISTIC_SOLVER_CONVERGENCE_MSG,\n"
     ]
    },
    {
     "data": {
      "text/plain": [
       "LogisticRegression()"
      ]
     },
     "execution_count": 23,
     "metadata": {},
     "output_type": "execute_result"
    }
   ],
   "source": [
    "model.fit(x_train, y_train)"
   ]
  },
  {
   "cell_type": "code",
   "execution_count": 24,
   "id": "8bc40dbd",
   "metadata": {
    "execution": {
     "iopub.execute_input": "2023-02-18T19:18:59.283352Z",
     "iopub.status.busy": "2023-02-18T19:18:59.282905Z",
     "iopub.status.idle": "2023-02-18T19:18:59.291609Z",
     "shell.execute_reply": "2023-02-18T19:18:59.290259Z"
    },
    "papermill": {
     "duration": 0.028001,
     "end_time": "2023-02-18T19:18:59.294094",
     "exception": false,
     "start_time": "2023-02-18T19:18:59.266093",
     "status": "completed"
    },
    "tags": []
   },
   "outputs": [
    {
     "name": "stdout",
     "output_type": "stream",
     "text": [
      "0.9555555555555556\n"
     ]
    }
   ],
   "source": [
    "#model accuracy\n",
    "print(model.score(x_test, y_test))"
   ]
  },
  {
   "cell_type": "code",
   "execution_count": 25,
   "id": "f47f1b82",
   "metadata": {
    "execution": {
     "iopub.execute_input": "2023-02-18T19:18:59.325798Z",
     "iopub.status.busy": "2023-02-18T19:18:59.325304Z",
     "iopub.status.idle": "2023-02-18T19:18:59.379676Z",
     "shell.execute_reply": "2023-02-18T19:18:59.378362Z"
    },
    "papermill": {
     "duration": 0.073697,
     "end_time": "2023-02-18T19:18:59.382624",
     "exception": false,
     "start_time": "2023-02-18T19:18:59.308927",
     "status": "completed"
    },
    "tags": []
   },
   "outputs": [],
   "source": [
    "# knn k-nearest neigbours\n",
    "from sklearn.neighbors import KNeighborsClassifier\n",
    "model = KNeighborsClassifier()"
   ]
  },
  {
   "cell_type": "code",
   "execution_count": 26,
   "id": "53656959",
   "metadata": {
    "execution": {
     "iopub.execute_input": "2023-02-18T19:18:59.414565Z",
     "iopub.status.busy": "2023-02-18T19:18:59.414157Z",
     "iopub.status.idle": "2023-02-18T19:18:59.424978Z",
     "shell.execute_reply": "2023-02-18T19:18:59.423727Z"
    },
    "papermill": {
     "duration": 0.029117,
     "end_time": "2023-02-18T19:18:59.427158",
     "exception": false,
     "start_time": "2023-02-18T19:18:59.398041",
     "status": "completed"
    },
    "tags": []
   },
   "outputs": [
    {
     "data": {
      "text/plain": [
       "KNeighborsClassifier()"
      ]
     },
     "execution_count": 26,
     "metadata": {},
     "output_type": "execute_result"
    }
   ],
   "source": [
    "model.fit(x_train, y_train)"
   ]
  },
  {
   "cell_type": "code",
   "execution_count": 27,
   "id": "67885b5a",
   "metadata": {
    "execution": {
     "iopub.execute_input": "2023-02-18T19:18:59.458728Z",
     "iopub.status.busy": "2023-02-18T19:18:59.458304Z",
     "iopub.status.idle": "2023-02-18T19:18:59.471194Z",
     "shell.execute_reply": "2023-02-18T19:18:59.470007Z"
    },
    "papermill": {
     "duration": 0.031607,
     "end_time": "2023-02-18T19:18:59.473825",
     "exception": false,
     "start_time": "2023-02-18T19:18:59.442218",
     "status": "completed"
    },
    "tags": []
   },
   "outputs": [
    {
     "name": "stdout",
     "output_type": "stream",
     "text": [
      "0.9555555555555556\n"
     ]
    }
   ],
   "source": [
    "#model accuracy\n",
    "print(model.score(x_test, y_test))"
   ]
  },
  {
   "cell_type": "code",
   "execution_count": 28,
   "id": "9183ddf8",
   "metadata": {
    "execution": {
     "iopub.execute_input": "2023-02-18T19:18:59.507341Z",
     "iopub.status.busy": "2023-02-18T19:18:59.505974Z",
     "iopub.status.idle": "2023-02-18T19:18:59.536628Z",
     "shell.execute_reply": "2023-02-18T19:18:59.535447Z"
    },
    "papermill": {
     "duration": 0.049569,
     "end_time": "2023-02-18T19:18:59.539345",
     "exception": false,
     "start_time": "2023-02-18T19:18:59.489776",
     "status": "completed"
    },
    "tags": []
   },
   "outputs": [],
   "source": [
    "# decision tree\n",
    "from sklearn.tree import DecisionTreeClassifier\n",
    "model = DecisionTreeClassifier()"
   ]
  },
  {
   "cell_type": "code",
   "execution_count": 29,
   "id": "799db3cc",
   "metadata": {
    "execution": {
     "iopub.execute_input": "2023-02-18T19:18:59.572000Z",
     "iopub.status.busy": "2023-02-18T19:18:59.571005Z",
     "iopub.status.idle": "2023-02-18T19:18:59.582355Z",
     "shell.execute_reply": "2023-02-18T19:18:59.581143Z"
    },
    "papermill": {
     "duration": 0.029935,
     "end_time": "2023-02-18T19:18:59.584648",
     "exception": false,
     "start_time": "2023-02-18T19:18:59.554713",
     "status": "completed"
    },
    "tags": []
   },
   "outputs": [
    {
     "data": {
      "text/plain": [
       "DecisionTreeClassifier()"
      ]
     },
     "execution_count": 29,
     "metadata": {},
     "output_type": "execute_result"
    }
   ],
   "source": [
    "model.fit(x_train, y_train)"
   ]
  },
  {
   "cell_type": "code",
   "execution_count": 30,
   "id": "7912d232",
   "metadata": {
    "execution": {
     "iopub.execute_input": "2023-02-18T19:18:59.617245Z",
     "iopub.status.busy": "2023-02-18T19:18:59.616577Z",
     "iopub.status.idle": "2023-02-18T19:18:59.624802Z",
     "shell.execute_reply": "2023-02-18T19:18:59.623428Z"
    },
    "papermill": {
     "duration": 0.027141,
     "end_time": "2023-02-18T19:18:59.627216",
     "exception": false,
     "start_time": "2023-02-18T19:18:59.600075",
     "status": "completed"
    },
    "tags": []
   },
   "outputs": [
    {
     "name": "stdout",
     "output_type": "stream",
     "text": [
      "0.8888888888888888\n"
     ]
    }
   ],
   "source": [
    "print(model.score(x_test, y_test))"
   ]
  }
 ],
 "metadata": {
  "kernelspec": {
   "display_name": "Python 3",
   "language": "python",
   "name": "python3"
  },
  "language_info": {
   "codemirror_mode": {
    "name": "ipython",
    "version": 3
   },
   "file_extension": ".py",
   "mimetype": "text/x-python",
   "name": "python",
   "nbconvert_exporter": "python",
   "pygments_lexer": "ipython3",
   "version": "3.7.12"
  },
  "papermill": {
   "default_parameters": {},
   "duration": 14.781534,
   "end_time": "2023-02-18T19:19:00.468329",
   "environment_variables": {},
   "exception": null,
   "input_path": "__notebook__.ipynb",
   "output_path": "__notebook__.ipynb",
   "parameters": {},
   "start_time": "2023-02-18T19:18:45.686795",
   "version": "2.3.4"
  }
 },
 "nbformat": 4,
 "nbformat_minor": 5
}
